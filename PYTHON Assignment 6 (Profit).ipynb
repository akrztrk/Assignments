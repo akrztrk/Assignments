{
 "cells": [
  {
   "cell_type": "code",
   "execution_count": 4,
   "metadata": {
    "tags": []
   },
   "outputs": [
    {
     "output_type": "stream",
     "name": "stdout",
     "text": "Please enter mile.\n444.0 kilometer is equal to 275.857 mile\n"
    }
   ],
   "source": [
    "Profit\n",
    "\n",
    "Task - 1 :\n",
    "You work for a manufacturer as a programmer and have been asked to calculate the total profit made on the sales of a product. You are given a dictionary (sales) containing the cost price per unit (in dollars), sell price per unit (in dollars), and the beginning inventory. Write a program to return the total profit made, rounded to the nearest dollar. Assume all of the inventory has been sold. The name and the keys of the dictionary are constant, so use them as they are.\n",
    "\n",
    "Task - 2 :\n",
    "Your boss wants you to prepare the payrolls of the workers in your department. You have to convert the amount of dollars into payroll format. In order to help move things along, you have volunteered to write a code that will take a float and return the amount formatting in dollars and cents."
   ]
  },
  {
   "cell_type": "code",
   "execution_count": null,
   "metadata": {},
   "outputs": [],
   "source": [
    "Task 1:\n",
    "\n",
    "sales = {\n",
    "  \"cost_value\": 31.87,\n",
    "  \"sell_value\": 45.00,\n",
    "  \"inventory\": 1000\n",
    "}  \n",
    "\n",
    "cost_value = sales[\"cost_value\"]\n",
    "sell_value = sales[\"sell_value\"]\n",
    "inventory = sales[\"inventory\"]\n",
    "\n",
    " \n",
    "Total_expense = (cost_value * inventory)\n",
    "Total_income = (sell_value * inventory) \n",
    "Total_profit = (Total_income - Total_expense)\n",
    "\n",
    "print(\"Your total profit is {} $.\".format(Total_profit))\n",
    "\n",
    "Task 2:\n",
    "\n",
    "payroll_a = float(3)\n",
    "payroll_b = float(29.99)\n",
    "payroll_c = float(4.1)\n",
    "\n",
    "print(\"${:.2f}\".format(float(payroll_a)))\n",
    "print(\"${:.2f}\".format(float(payroll_b)))\n",
    "print(\"${:.2f}\".format(float(payroll_c)))"
   ]
  }
 ],
 "metadata": {
  "language_info": {
   "codemirror_mode": {
    "name": "ipython",
    "version": 3
   },
   "file_extension": ".py",
   "mimetype": "text/x-python",
   "name": "python",
   "nbconvert_exporter": "python",
   "pygments_lexer": "ipython3",
   "version": "3.7.1-final"
  },
  "orig_nbformat": 2,
  "kernelspec": {
   "name": "python37164bit84562d7a84c04900b6a9df9a5095ec2c",
   "display_name": "Python 3.7.1 64-bit"
  }
 },
 "nbformat": 4,
 "nbformat_minor": 2
}