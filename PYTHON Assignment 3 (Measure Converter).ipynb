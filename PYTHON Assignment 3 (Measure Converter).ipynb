{
 "cells": [
  {
   "cell_type": "code",
   "execution_count": null,
   "metadata": {},
   "outputs": [],
   "source": [
    "Task-1:\n",
    "\n",
    "Write a short Python program that asks the user to enter Celsius temperature (it can be a decimal number), converts the entered temperature into Fahrenheit degree and prints the result.\n",
    "\n",
    "Temperature (℉ = Fahrenheit) = Temperature(℃ = Celsius) * 1.8 + 32\n",
    "\n",
    "Task-2:\n",
    "\n",
    "Write a short Python program that asks the user to enter a distance (it can be a decimal number) in kilometers, converts the entered distance into miles and prints the result."
   ]
  },
  {
   "cell_type": "code",
   "execution_count": 26,
   "metadata": {
    "tags": []
   },
   "outputs": [
    {
     "output_type": "stream",
     "name": "stdout",
     "text": "Please enter Celsius temperature.\n33.0 Celsius is equal to 91.4 degree Fahrenheit\n"
    }
   ],
   "source": [
    "print(\"Please enter Celsius temperature.\")\n",
    "Celsius = float(input('Please enter Celsius temperature: '))  \n",
    "Fahrenheit = (Celsius * 1.8) + 32  \n",
    "\n",
    "print(round(Celsius, 3), 'Celsius is equal to', round(Fahrenheit, 3), 'degree Fahrenheit')\n",
    "\n",
    "Task-2:\n",
    "\n",
    "# 1 mile = km * 0.213\n",
    "\n",
    "print(\"Please enter mile.\")\n",
    "kilometer = float(input('Please enter mile: '))  \n",
    "mile = (kilometer * 0.6213)  \n",
    "\n",
    "print(round(kilometer, 3), 'kilometer is equal to', round(mile, 3), 'mile')"
   ]
  }
 ],
 "metadata": {
  "language_info": {
   "codemirror_mode": {
    "name": "ipython",
    "version": 3
   },
   "file_extension": ".py",
   "mimetype": "text/x-python",
   "name": "python",
   "nbconvert_exporter": "python",
   "pygments_lexer": "ipython3",
   "version": "3.7.1-final"
  },
  "orig_nbformat": 2,
  "kernelspec": {
   "name": "python37164bit84562d7a84c04900b6a9df9a5095ec2c",
   "display_name": "Python 3.7.1 64-bit"
  }
 },
 "nbformat": 4,
 "nbformat_minor": 2
}