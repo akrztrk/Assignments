{
 "cells": [
  {
   "cell_type": "code",
   "execution_count": null,
   "metadata": {},
   "outputs": [],
   "source": [
    "Comfortable Words\n",
    "\n",
    "Task : Find out if the given word is \"comfortable words\" in relation to the ten-finger keyboard use.\n",
    "\n",
    "A comfortable word is a word which you can type always alternating the hand you type with (assuming you type using a Q-keyboard and use of the ten-fingers standard).\n",
    "The word will always be a string consisting of only letters from a to z.\n",
    "Write a program to returns True if it's a comfortable word or False otherwise.\n",
    "the most frequent number is 3 and it was 4 times repeated"
   ]
  },
  {
   "cell_type": "code",
   "execution_count": 3,
   "metadata": {
    "tags": []
   },
   "outputs": [
    {
     "output_type": "stream",
     "name": "stdout",
     "text": "The most frequent number is 3 and it was 4 times repeated.\n"
    }
   ],
   "source": [
    "Left_hand = {'t',\"g\",\"b\", \"v\",'f','r',\"e\", \"d\", \"c\", \"x\",\"s\", \"w\", \"q\",\"a\",\"z\"}\n",
    "Right_hand = {\"y\", \"h\", \"n\", \"u\", \"j\", \"m\", \"ö\", \"ç\", \"i\", \"ş\", \"l\", \"k\", \"ı\", \"o\", \"p\", \"ğ\", \"ü\"}\n",
    "\n",
    "word = set(input(\"Enter a letters/words: \"))\n",
    "\n",
    "result = word.intersection(Left_hand) and word.intersection(Right_hand)\n",
    "print(bool(result))"
   ]
  }
 ],
 "metadata": {
  "language_info": {
   "codemirror_mode": {
    "name": "ipython",
    "version": 3
   },
   "file_extension": ".py",
   "mimetype": "text/x-python",
   "name": "python",
   "nbconvert_exporter": "python",
   "pygments_lexer": "ipython3",
   "version": "3.7.1-final"
  },
  "orig_nbformat": 2,
  "kernelspec": {
   "name": "python37164bit84562d7a84c04900b6a9df9a5095ec2c",
   "display_name": "Python 3.7.1 64-bit"
  }
 },
 "nbformat": 4,
 "nbformat_minor": 2
}