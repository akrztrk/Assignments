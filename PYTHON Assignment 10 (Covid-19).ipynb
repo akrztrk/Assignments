{
 "cells": [
  {
   "cell_type": "code",
   "execution_count": null,
   "metadata": {},
   "outputs": [],
   "source": [
    "Covid-19\n",
    "\n",
    "Problem :\n",
    "\n",
    "Task : Estimating the risk of death from coronavirus. Write a program that;\n",
    "\n",
    "Takes \"Yes\" or \"No\" from the user as an answer to the following questions :\n",
    "\n",
    "Are you a cigarette addict older than 75 years old? Variable → age\n",
    "\n",
    "Do you have a severe chronic disease? Variable → chronic\n",
    "\n",
    "Is your immune system too weak? Variable → immune\n",
    "\n",
    "Set a logical algorithm using boolean logic operators (and/or) and use if-statements with the given variables in order to print out us a message : \"You are in risky group\"(if True ) or \"You are not in risky group\" (if False)."
   ]
  },
  {
   "cell_type": "code",
   "execution_count": 1,
   "metadata": {
    "tags": []
   },
   "outputs": [
    {
     "output_type": "stream",
     "name": "stdout",
     "text": "Please answer the following questions.\nRisky\n"
    }
   ],
   "source": [
    "age = False\n",
    "chronic = False\n",
    "immune = False\n",
    "risk = False\n",
    "\n",
    "print(\"Please answer the following questions.\")\n",
    "\n",
    "a = input(\"Are you a cigarette addict older than 75 years old? Y/N\")\n",
    "while(a!=\"Y\" and a!=\"N\" and a!=\"y\" and a!=\"n\"):\n",
    "    a = input(\"Invalid answer.Please enter correctly: Y/N\")\n",
    "        \n",
    "if(a == \"Y\" or a == \"y\"):\n",
    "    age = True\n",
    "    if(risk == False):\n",
    "        risk = True\n",
    "    \n",
    "c = input(\"Do you have a severe chronic disease? Y/N\")\n",
    "while(a!=\"Y\" and a!=\"N\" and a!=\"y\" and a!=\"n\"):\n",
    "    i = input(\"Invalid answer.Please enter correctly: Y/N\")\n",
    "    \n",
    "if(c == \"Y\" or c == \"y\"):\n",
    "    chronic = True\n",
    "    if(risk == False):\n",
    "        risk = True\n",
    "i = input(\"Is your immune system too weak? Y/N\")\n",
    "while(a!=\"Y\" and a!=\"N\" and a!=\"y\" and a!=\"n\"):\n",
    "    c=input(\"Invalid answer.Please enter correctly: Y/N\")\n",
    "    \n",
    "if(i == \"Y\" or i == \"y\"):\n",
    "    immune = True\n",
    "    if(risk == False):\n",
    "        risk = True\n",
    "\n",
    "if(risk):\n",
    "    print(\"Risky\")\n",
    "else:\n",
    "    print(\"Not risky\")"
   ]
  }
 ],
 "metadata": {
  "language_info": {
   "codemirror_mode": {
    "name": "ipython",
    "version": 3
   },
   "file_extension": ".py",
   "mimetype": "text/x-python",
   "name": "python",
   "nbconvert_exporter": "python",
   "pygments_lexer": "ipython3",
   "version": 3
  },
  "orig_nbformat": 2,
  "kernelspec": {
   "name": "python_defaultSpec_1594284962619",
   "display_name": "Python 3.7.1 64-bit"
  }
 },
 "nbformat": 4,
 "nbformat_minor": 2
}