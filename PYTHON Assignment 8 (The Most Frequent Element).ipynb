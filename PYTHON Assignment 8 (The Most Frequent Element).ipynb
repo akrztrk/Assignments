{
 "cells": [
  {
   "cell_type": "code",
   "execution_count": null,
   "metadata": {},
   "outputs": [],
   "source": [
    "The Most Frequent Element\n",
    "\n",
    "Task : Find out the most frequent number and its frequency.\n",
    "\n",
    "Write a program that;\n",
    "\n",
    "Finds out the most frequent number in the given list.\n",
    "Calculates its frequency.\n",
    "Prints out the result such as :\n",
    "Example\n",
    "Given list\tDesired Output\n",
    "numbers = [1, 3, 7, 4, 3, 0, 3, 6, 3]\n",
    "the most frequent number is 3 and it was 4 times repeated"
   ]
  },
  {
   "cell_type": "code",
   "execution_count": 1,
   "metadata": {
    "tags": []
   },
   "outputs": [
    {
     "output_type": "stream",
     "name": "stdout",
     "text": "The most frequent number is 3 and it was 4 times repeated.\n"
    }
   ],
   "source": [
    "List = [1, 3, 7, 4, 3, 0, 3, 6, 3]\n",
    "counter = 0\n",
    "num = List[0] \n",
    "      \n",
    "for i in List: \n",
    "    curr_frequency = List.count(i) \n",
    "    if(curr_frequency > counter): \n",
    "        counter = curr_frequency \n",
    "        num = i\n",
    "\n",
    "print(\"The most frequent number is {} and it was {} times repeated.\".format(num, counter))"
   ]
  },
  {
   "cell_type": "code",
   "execution_count": null,
   "metadata": {},
   "outputs": [],
   "source": []
  }
 ],
 "metadata": {
  "language_info": {
   "codemirror_mode": {
    "name": "ipython",
    "version": 3
   },
   "file_extension": ".py",
   "mimetype": "text/x-python",
   "name": "python",
   "nbconvert_exporter": "python",
   "pygments_lexer": "ipython3",
   "version": "3.7.1-final"
  },
  "orig_nbformat": 2,
  "kernelspec": {
   "name": "python37164bit84562d7a84c04900b6a9df9a5095ec2c",
   "display_name": "Python 3.7.1 64-bit"
  }
 },
 "nbformat": 4,
 "nbformat_minor": 2
}