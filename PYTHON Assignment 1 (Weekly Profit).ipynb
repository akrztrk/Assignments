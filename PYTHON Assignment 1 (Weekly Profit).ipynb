{
 "cells": [
  {
   "cell_type": "code",
   "execution_count": 1,
   "metadata": {
    "tags": []
   },
   "outputs": [
    {
     "output_type": "stream",
     "name": "stdout",
     "text": "Beginning Cryptocurrency Balance : 1000 $ \n\n1 day: You have 1070.0 $ end of the day.\n2 day: You have 1144.9 $ end of the day.\n3 day: You have 1225.043 $ end of the day.\n4 day: You have 1310.796 $ end of the day.\n5 day: You have 1402.552 $ end of the day.\n6 day: You have 1500.73 $ end of the day.\n7 day: You have 1605.781 $ end of the day.\n\nTotal balance : You have 1605.781 $ end of the week.\n"
    }
   ],
   "source": [
    "#Problem : If you had deposited a coin on the cryptocurrency exchange that brought 7% fixed profit daily for a week, how much would your $ 1000 reach at the end of the 7th day?\n",
    "\n",
    "Cryptocurrency_balance = 1000 # $\n",
    "daily_profit = 7 # %\n",
    "print(\"Beginning Cryptocurrency Balance :\", Cryptocurrency_balance, \"$\", \"\\n\") \n",
    "for a in range(1,8):\n",
    "    Cryptocurrency_balance += Cryptocurrency_balance * daily_profit/100\n",
    "    print(a, \"day: You have\",  round(Cryptocurrency_balance, 3), \"$\", \"end of the day.\")\n",
    "print() \n",
    "print(\"Total balance : You have\", round(Cryptocurrency_balance, 3), \"$\", \"end of the week.\")"
   ]
  },
  {
   "cell_type": "code",
   "execution_count": 3,
   "metadata": {
    "tags": []
   },
   "outputs": [
    {
     "output_type": "stream",
     "name": "stdout",
     "text": "1605.7814764784307\n"
    }
   ],
   "source": [
    "deposit = 1000\n",
    "deposit = deposit * 1.07 ** 7\n",
    "print(deposit)"
   ]
  },
  {
   "cell_type": "code",
   "execution_count": null,
   "metadata": {},
   "outputs": [],
   "source": []
  }
 ],
 "metadata": {
  "language_info": {
   "codemirror_mode": {
    "name": "ipython",
    "version": 3
   },
   "file_extension": ".py",
   "mimetype": "text/x-python",
   "name": "python",
   "nbconvert_exporter": "python",
   "pygments_lexer": "ipython3",
   "version": "3.7.1-final"
  },
  "orig_nbformat": 2,
  "kernelspec": {
   "name": "python37164bit84562d7a84c04900b6a9df9a5095ec2c",
   "display_name": "Python 3.7.1 64-bit"
  }
 },
 "nbformat": 4,
 "nbformat_minor": 2
}